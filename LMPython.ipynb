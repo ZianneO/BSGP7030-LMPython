{
 "cells": [
  {
   "cell_type": "markdown",
   "id": "3f224109-6d9c-4f09-b49e-76e9dbd6a7ec",
   "metadata": {},
   "source": [
    "# Linear Modeling in Python"
   ]
  },
  {
   "cell_type": "code",
   "execution_count": null,
   "id": "9454143b-4e58-4e05-bfa3-9e277eabb561",
   "metadata": {},
   "outputs": [],
   "source": []
  }
 ],
 "metadata": {
  "kernelspec": {
   "display_name": "Python 3 (ipykernel)",
   "language": "python",
   "name": "python3"
  },
  "language_info": {
   "codemirror_mode": {
    "name": "ipython",
    "version": 3
   },
   "file_extension": ".py",
   "mimetype": "text/x-python",
   "name": "python",
   "nbconvert_exporter": "python",
   "pygments_lexer": "ipython3",
   "version": "3.9.18"
  }
 },
 "nbformat": 4,
 "nbformat_minor": 5
}
